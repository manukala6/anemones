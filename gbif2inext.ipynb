{
 "cells": [
  {
   "cell_type": "code",
   "execution_count": 1,
   "metadata": {},
   "outputs": [],
   "source": [
    "import os\n",
    "import pandas as pd\n",
    "import geopandas as gpd\n",
    "from math import ceil\n",
    "from shapely import wkt\n",
    "from pyproj import Transformer\n",
    "from shapely.geometry import box\n",
    "from tqdm.notebook import tqdm"
   ]
  },
  {
   "cell_type": "code",
   "execution_count": 3,
   "metadata": {},
   "outputs": [],
   "source": [
    "# Read GBIF occurence data into dataframe\n",
    "raw_df = pd.read_csv('data\\GBIF_species_ID_complete.csv')"
   ]
  },
  {
   "cell_type": "markdown",
   "metadata": {},
   "source": [
    "### Data Cleaning and Pre-processing"
   ]
  },
  {
   "cell_type": "code",
   "execution_count": 4,
   "metadata": {},
   "outputs": [],
   "source": [
    "# Remove null coordinates\n",
    "raw_df = raw_df.dropna(subset=['decimalLongitude', 'decimalLatitude'])\n",
    "\n",
    "# Remove points at origin (coordinate 0, 0)\n",
    "raw_df = raw_df[(raw_df[['decimalLongitude','decimalLatitude']] != 0).all(axis=1)]"
   ]
  },
  {
   "cell_type": "code",
   "execution_count": 5,
   "metadata": {},
   "outputs": [],
   "source": [
    "# Read into geodataframe\n",
    "raw_gdf = gpd.GeoDataFrame(\n",
    "    raw_df, \n",
    "    geometry=gpd.points_from_xy(raw_df['decimalLongitude'], raw_df['decimalLatitude']),\n",
    "    crs='EPSG:4326'\n",
    ")\n",
    "\n",
    "# Transform to Behrmann projection\n",
    "behrmann_raw_gdf = raw_gdf.to_crs('ESRI:54017')"
   ]
  },
  {
   "cell_type": "code",
   "execution_count": 6,
   "metadata": {},
   "outputs": [],
   "source": [
    "# Read Natural Lands ocean map\n",
    "ocean_gdf = gpd.read_file('data\\\\ne_10m_ocean.shp', crs='ESRI:4326')\n",
    "\n",
    "# Transform to Behrmann projection\n",
    "ocean_gdf = ocean_gdf.to_crs('ESRI:54017')\n",
    "\n",
    "# Remove occurence points 10km or more inland\n",
    "ocean_10km_buffer = ocean_gdf.buffer(10000)\n",
    "occurences_gdf = behrmann_raw_gdf.clip(ocean_10km_buffer)\n"
   ]
  },
  {
   "cell_type": "markdown",
   "metadata": {},
   "source": [
    "### Generate fishnet grid"
   ]
  },
  {
   "cell_type": "code",
   "execution_count": 7,
   "metadata": {},
   "outputs": [],
   "source": [
    "def create_fishnet(grid_size, bbox, projection):\n",
    "    # Initialize the transformer to convert from geographic (longitude, latitude) to Behrmann projection\n",
    "    transformer = Transformer.from_crs(\"EPSG:4326\", projection, always_xy=True)\n",
    "    \n",
    "    # Transform the bounding box coordinates to the projection\n",
    "    min_x, min_y = transformer.transform(bbox[0], bbox[1])\n",
    "    max_x, max_y = transformer.transform(bbox[2], bbox[3])\n",
    "    \n",
    "    # Calculate number of cells needed in the x and y directions\n",
    "    x_cells = ceil(int((max_x - min_x) / grid_size))\n",
    "    y_cells = ceil(int((max_y - min_y) / grid_size))\n",
    "    \n",
    "    # Generate polygons for each cell in the grid\n",
    "    polygons = []\n",
    "    tile_ids = []\n",
    "    for i in range(x_cells):\n",
    "        for j in range(y_cells):\n",
    "            # Coordinates of the lower left corner of the grid cell\n",
    "            x1 = min_x + i * grid_size\n",
    "            y1 = min_y + j * grid_size\n",
    "            # Create a polygon for the grid cell\n",
    "            poly = box(x1, y1, x1 + grid_size, y1 + grid_size)\n",
    "            tile_id = f\"{i}_{j}\"\n",
    "            polygons.append(poly)\n",
    "            tile_ids.append(tile_id)\n",
    "\n",
    "    # Add a slimmer column polygons to fit to the bounding box\n",
    "    for k in range(y_cells):\n",
    "        y1 = min_y + k * grid_size\n",
    "        poly = box(x1 + grid_size, y1, max_x, y1 + grid_size)\n",
    "        tile_id = f\"{i+1}_{j+k}\"\n",
    "        polygons.append(poly)\n",
    "        tile_ids.append(tile_id)\n",
    "    \n",
    "    # Create a GeoDataFrame from the polygons\n",
    "    grid = gpd.GeoDataFrame({'tile_id': tile_ids, 'geometry': polygons}, crs=projection)\n",
    "    return grid"
   ]
  },
  {
   "cell_type": "code",
   "execution_count": 8,
   "metadata": {},
   "outputs": [],
   "source": [
    "# Define bounding box in geographic coordinates [min_lon, min_lat, max_lon, max_lat]\n",
    "bbox = [-180, -80, 180, 80]  # Adjust latitude as per the usability in cylindrical projections\n",
    "\n",
    "# Grid size in meters (e.g., 1000 km)\n",
    "grid_size = 200000\n",
    "\n",
    "# Create the fishnet grid\n",
    "grid = create_fishnet(grid_size, bbox, \"ESRI:54017\")"
   ]
  },
  {
   "cell_type": "code",
   "execution_count": 9,
   "metadata": {},
   "outputs": [],
   "source": [
    "# Join occurence data to grid\n",
    "occurences_joined_gdf = occurences_gdf.sjoin(grid, how=\"inner\", predicate=\"within\")"
   ]
  },
  {
   "cell_type": "code",
   "execution_count": 10,
   "metadata": {},
   "outputs": [],
   "source": [
    "cells = occurences_joined_gdf['tile_id'].unique().tolist()"
   ]
  },
  {
   "cell_type": "markdown",
   "metadata": {},
   "source": [
    "### Create subgrids and transform occurence data to incidence"
   ]
  },
  {
   "cell_type": "code",
   "execution_count": 11,
   "metadata": {},
   "outputs": [],
   "source": [
    "def create_subgrid(geom):\n",
    "    min_x, min_y, max_x, max_y = geom.bounds\n",
    "    x_cells = int((max_x - min_x) / 2000)\n",
    "    y_cells = int((max_y - min_y) / 2000)\n",
    "\n",
    "    polygons = []\n",
    "    tile_ids = []\n",
    "    for i in range(x_cells):\n",
    "        for j in range(y_cells):\n",
    "            # Coordinates of the lower left corner of the grid cell\n",
    "            x1 = min_x + i * 2000\n",
    "            y1 = min_y + j * 2000\n",
    "            # Create a polygon for the grid cell\n",
    "            poly = box(x1, y1, x1 + 2000, y1 + 2000)\n",
    "            tile_id = f\"{i}_{j}\"\n",
    "            polygons.append(poly)\n",
    "            tile_ids.append(tile_id)\n",
    "\n",
    "    return gpd.GeoDataFrame({'subgrid_id': tile_ids, 'geometry': polygons}, crs='ESRI:54017')\n",
    "\n",
    "def species_counts(df):\n",
    "    return df['species'].value_counts().to_list()"
   ]
  },
  {
   "cell_type": "code",
   "execution_count": 12,
   "metadata": {},
   "outputs": [],
   "source": [
    "def gbif2inext(occurences: gpd.GeoDataFrame, grid: gpd.GeoDataFrame, output_dir: str):\n",
    "\n",
    "    # Join occurence data to grid\n",
    "    joined = occurences.sjoin(grid, how=\"inner\", predicate=\"within\")\n",
    "\n",
    "    # List of cells with occurences\n",
    "    cells = joined['tile_id'].unique().tolist()\n",
    "\n",
    "    # Maximum number of occurences in a cell\n",
    "    max_species_count = 0\n",
    "\n",
    "    for cell in tqdm(cells):\n",
    "        # Get occurences in the cell\n",
    "        cell_occurences = joined[joined['tile_id'] == cell].drop('index_right', axis=1)\n",
    "\n",
    "        # Create subgrid\n",
    "        geom = grid[grid['tile_id'] == cell]['geometry'].item()\n",
    "        subgrid = create_subgrid(geom)\n",
    "\n",
    "        # Join occurences to subgrid\n",
    "        joined_subgrid = cell_occurences.sjoin(subgrid, how='inner', predicate='within').drop('index_right', axis=1)\n",
    "\n",
    "        # Identify assemblage\n",
    "        assemblage = species_counts(joined_subgrid)\n",
    "\n",
    "        # Identify number of positive sampling units\n",
    "        pos_sampling_units = len(joined_subgrid['subgrid_id'].unique())\n",
    "\n",
    "        # Identify incidence per species\n",
    "        incidence_freq = []\n",
    "        for species in joined_subgrid['species'].unique():\n",
    "            species_subgrid = joined_subgrid[joined_subgrid['species'] == species]\n",
    "            incidence = len(species_subgrid['subgrid_id'].unique())\n",
    "            incidence_freq.append(incidence)\n",
    "\n",
    "        # Sort incidence_freq in descending order\n",
    "        incidence_freq = sorted(incidence_freq, reverse=True)\n",
    "\n",
    "        # Calc species count and reset max_species_count if needed\n",
    "        if len(assemblage) > max_species_count:\n",
    "            max_species_count = len(assemblage)\n",
    "\n",
    "        export = pd.DataFrame(incidence_freq, columns=[cell])\n",
    "        sampling_unit_row = pd.DataFrame([pos_sampling_units], columns=export.columns)\n",
    "        export = pd.concat([sampling_unit_row, export]).reset_index(drop=True)\n",
    "        export.to_csv(f'{output_dir}\\\\{cell}.csv', index=False)\n",
    "\n",
    "    return max_species_count"
   ]
  },
  {
   "cell_type": "code",
   "execution_count": 13,
   "metadata": {},
   "outputs": [
    {
     "data": {
      "application/vnd.jupyter.widget-view+json": {
       "model_id": "cbf831164b43499596b21e9bdadfcfd7",
       "version_major": 2,
       "version_minor": 0
      },
      "text/plain": [
       "  0%|          | 0/1415 [00:00<?, ?it/s]"
      ]
     },
     "metadata": {},
     "output_type": "display_data"
    }
   ],
   "source": [
    "max_species_count = gbif2inext(occurences_gdf, grid, os.path.join('iNEXT_output', '200km'))"
   ]
  },
  {
   "cell_type": "code",
   "execution_count": null,
   "metadata": {},
   "outputs": [],
   "source": [
    "# Extend every file to max_species_count\n",
    "\n",
    "def extend_df(dir, max_species_count):\n",
    "    fps = [os.path.join(dir, f) for f in os.listdir(dir)]\n",
    "    for fp in fps:\n",
    "        df = pd.read_csv(fp)\n",
    "        diff = max_species_count - len(df)\n",
    "        if diff > 0:\n",
    "            addl_rows = pd.DataFrame([[0]*len(df.columns)]*diff, columns=df.columns)\n",
    "            df = pd.concat([df, addl_rows]).reset_index(drop=True)\n",
    "        df.to_csv(fp, index=False)\n",
    "\n",
    "    return"
   ]
  },
  {
   "cell_type": "code",
   "execution_count": null,
   "metadata": {},
   "outputs": [],
   "source": [
    "extend_df('iNEXT_output', max_species_count)"
   ]
  }
 ],
 "metadata": {
  "kernelspec": {
   "display_name": "geo_env",
   "language": "python",
   "name": "python3"
  },
  "language_info": {
   "codemirror_mode": {
    "name": "ipython",
    "version": 3
   },
   "file_extension": ".py",
   "mimetype": "text/x-python",
   "name": "python",
   "nbconvert_exporter": "python",
   "pygments_lexer": "ipython3",
   "version": "3.12.8"
  }
 },
 "nbformat": 4,
 "nbformat_minor": 2
}
